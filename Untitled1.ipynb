{
 "cells": [
  {
   "cell_type": "code",
   "execution_count": 1,
   "id": "a0bf78f2-a711-4901-af8b-e1fee9fd21c5",
   "metadata": {},
   "outputs": [],
   "source": [
    "import numpy"
   ]
  },
  {
   "cell_type": "code",
   "execution_count": 3,
   "id": "3f4dd7ba-4f94-4be8-aa0f-05e4d071a90f",
   "metadata": {},
   "outputs": [
    {
     "name": "stdout",
     "output_type": "stream",
     "text": [
      "[1 2 3 4 5]\n",
      "<class 'numpy.ndarray'>\n"
     ]
    }
   ],
   "source": [
    "arr=numpy.array([1,2,3,4,5])\n",
    "print(arr)\n",
    "print(type(arr))"
   ]
  },
  {
   "cell_type": "code",
   "execution_count": 4,
   "id": "2e21df00-ecc1-48d5-af18-1c076e4b7fcd",
   "metadata": {},
   "outputs": [],
   "source": [
    "import numpy as np"
   ]
  },
  {
   "cell_type": "code",
   "execution_count": 7,
   "id": "95e2a8cb-1d85-48a9-a2dd-624056c191cc",
   "metadata": {
    "tags": []
   },
   "outputs": [
    {
     "name": "stdout",
     "output_type": "stream",
     "text": [
      "1.21.5\n"
     ]
    }
   ],
   "source": [
    "print(np.__version__)"
   ]
  },
  {
   "cell_type": "markdown",
   "id": "a07aaf75-fb45-440c-a036-0505aa902117",
   "metadata": {},
   "source": [
    "TYPES OF ARRAY"
   ]
  },
  {
   "cell_type": "markdown",
   "id": "242bb3ca-ebfa-4915-a906-54f4b886687e",
   "metadata": {},
   "source": [
    "0 DIMENSIONAL ARRAY"
   ]
  },
  {
   "cell_type": "code",
   "execution_count": 8,
   "id": "08390d16-e08a-420f-8698-ed6caedd33bb",
   "metadata": {},
   "outputs": [
    {
     "name": "stdout",
     "output_type": "stream",
     "text": [
      "10\n",
      "0\n"
     ]
    }
   ],
   "source": [
    "a=np.array(10)\n",
    "print(a)\n",
    "print(a.ndim)"
   ]
  },
  {
   "cell_type": "markdown",
   "id": "383a6ca8-567e-4a6f-b1a0-04cadf72fa37",
   "metadata": {},
   "source": [
    "1 DIMENSIONAL ARRAY"
   ]
  },
  {
   "cell_type": "code",
   "execution_count": 9,
   "id": "8dcbee40-ccb7-41c0-893d-16ec0b99e724",
   "metadata": {},
   "outputs": [
    {
     "name": "stdout",
     "output_type": "stream",
     "text": [
      "[1 2 3]\n",
      "1\n"
     ]
    }
   ],
   "source": [
    "b=np.array([1,2,3])\n",
    "print(b)\n",
    "print(b.ndim)"
   ]
  },
  {
   "cell_type": "markdown",
   "id": "c2275c0f-7384-4149-99e2-c7bfe6ac134f",
   "metadata": {},
   "source": [
    "2 DIMENSIONAL ARRAY"
   ]
  },
  {
   "cell_type": "code",
   "execution_count": 12,
   "id": "12112161-2709-4164-add4-512b46f12c05",
   "metadata": {},
   "outputs": [
    {
     "name": "stdout",
     "output_type": "stream",
     "text": [
      "[[1 2 3 4]\n",
      " [5 6 7 8]]\n",
      "2\n",
      "(2, 4)\n"
     ]
    }
   ],
   "source": [
    "a=np.array([[1,2,3,4],[5,6,7,8]])\n",
    "print(a)\n",
    "print(a.ndim)\n",
    "print(a.shape)\n",
    "            "
   ]
  },
  {
   "cell_type": "markdown",
   "id": "5521c6c3-5bcb-4529-a65a-ad2e5cf70858",
   "metadata": {},
   "source": [
    "3 DIMENSIONAL ARRAY"
   ]
  },
  {
   "cell_type": "code",
   "execution_count": 13,
   "id": "6c77612d-7b51-4b0b-8621-b25c27e471e8",
   "metadata": {},
   "outputs": [
    {
     "name": "stdout",
     "output_type": "stream",
     "text": [
      "[[[1 2 3 4]\n",
      "  [1 2 3 4]\n",
      "  [1 2 3 4]]\n",
      "\n",
      " [[1 2 3 4]\n",
      "  [1 2 3 4]\n",
      "  [1 2 3 4]]]\n",
      "3\n",
      "(2, 3, 4)\n"
     ]
    }
   ],
   "source": [
    "a=np.array([[[1,2,3,4],[1,2,3,4],[1,2,3,4]],[[1,2,3,4],[1,2,3,4],[1,2,3,4]]])\n",
    "print(a)\n",
    "print(a.ndim)\n",
    "print(a.shape)"
   ]
  },
  {
   "cell_type": "markdown",
   "id": "1da2d914-2c74-460f-9717-31dd29d081b9",
   "metadata": {},
   "source": [
    "HIGHER DIMENSIONAL ARRAY"
   ]
  },
  {
   "cell_type": "code",
   "execution_count": 14,
   "id": "94e53396-aed6-497f-b97f-cf40890c20eb",
   "metadata": {},
   "outputs": [
    {
     "name": "stdout",
     "output_type": "stream",
     "text": [
      "[[12]]\n",
      "2\n"
     ]
    }
   ],
   "source": [
    "a=np.array(12,ndmin=2)\n",
    "print(a)\n",
    "print(a.ndim)"
   ]
  },
  {
   "cell_type": "markdown",
   "id": "af0e6166-2a15-493b-bf60-64b16d9c79d1",
   "metadata": {},
   "source": [
    "INDEXING"
   ]
  },
  {
   "cell_type": "code",
   "execution_count": 15,
   "id": "410a6e84-55f4-45b7-b03e-e7e27e84ef52",
   "metadata": {},
   "outputs": [
    {
     "data": {
      "text/plain": [
       "array([1, 2, 3])"
      ]
     },
     "execution_count": 15,
     "metadata": {},
     "output_type": "execute_result"
    }
   ],
   "source": [
    "a=np.array([1,2,3])\n",
    "a"
   ]
  },
  {
   "cell_type": "code",
   "execution_count": 16,
   "id": "dc1627d0-0cd1-42f2-8e4e-bc5a66463c75",
   "metadata": {},
   "outputs": [
    {
     "data": {
      "text/plain": [
       "3"
      ]
     },
     "execution_count": 16,
     "metadata": {},
     "output_type": "execute_result"
    }
   ],
   "source": [
    "a[2]"
   ]
  },
  {
   "cell_type": "code",
   "execution_count": 17,
   "id": "f97ad856-0b79-4856-b430-f1a1a2fa2c52",
   "metadata": {},
   "outputs": [
    {
     "data": {
      "text/plain": [
       "5"
      ]
     },
     "execution_count": 17,
     "metadata": {},
     "output_type": "execute_result"
    }
   ],
   "source": [
    "a[1]+a[2]"
   ]
  },
  {
   "cell_type": "markdown",
   "id": "1b8c3c9d-8eeb-4456-a266-4e527b748953",
   "metadata": {},
   "source": [
    "2D INDEXING"
   ]
  },
  {
   "cell_type": "code",
   "execution_count": 18,
   "id": "e4af0a96-8a1b-426e-9de0-c361704a4caf",
   "metadata": {},
   "outputs": [
    {
     "name": "stdout",
     "output_type": "stream",
     "text": [
      "[[1 2]\n",
      " [3 4]]\n"
     ]
    }
   ],
   "source": [
    "b=np.array([[1,2],[3,4]])\n",
    "print(b)"
   ]
  },
  {
   "cell_type": "code",
   "execution_count": 19,
   "id": "da8fac23-3e68-44f3-b5f2-69cb9cdc03e9",
   "metadata": {},
   "outputs": [
    {
     "data": {
      "text/plain": [
       "3"
      ]
     },
     "execution_count": 19,
     "metadata": {},
     "output_type": "execute_result"
    }
   ],
   "source": [
    "b[1][0]"
   ]
  },
  {
   "cell_type": "code",
   "execution_count": 20,
   "id": "5757b258-fd8a-41cd-a03a-3b5d053d26c7",
   "metadata": {},
   "outputs": [
    {
     "data": {
      "text/plain": [
       "2"
      ]
     },
     "execution_count": 20,
     "metadata": {},
     "output_type": "execute_result"
    }
   ],
   "source": [
    "b[0][1]"
   ]
  },
  {
   "cell_type": "code",
   "execution_count": 21,
   "id": "7c8d04df-057e-4ec6-990f-4ff9e1cbfe7d",
   "metadata": {},
   "outputs": [
    {
     "data": {
      "text/plain": [
       "1"
      ]
     },
     "execution_count": 21,
     "metadata": {},
     "output_type": "execute_result"
    }
   ],
   "source": [
    "b[0][0]"
   ]
  },
  {
   "cell_type": "markdown",
   "id": "568da0ea-fec1-4f95-836d-0ddb11d22698",
   "metadata": {},
   "source": [
    "3D INDEXING"
   ]
  },
  {
   "cell_type": "code",
   "execution_count": 22,
   "id": "428f8537-d0b9-4b36-baa8-07c11bb6a249",
   "metadata": {},
   "outputs": [
    {
     "name": "stdout",
     "output_type": "stream",
     "text": [
      "[[[1 2]\n",
      "  [3 4]]\n",
      "\n",
      " [[5 6]\n",
      "  [7 8]]]\n"
     ]
    }
   ],
   "source": [
    "c=np.array([[[1,2],[3,4]],[[5,6],[7,8]]])\n",
    "print(c)"
   ]
  },
  {
   "cell_type": "code",
   "execution_count": 23,
   "id": "d3773540-a557-473b-81f3-938ae14b2a9b",
   "metadata": {},
   "outputs": [
    {
     "data": {
      "text/plain": [
       "4"
      ]
     },
     "execution_count": 23,
     "metadata": {},
     "output_type": "execute_result"
    }
   ],
   "source": [
    "c[0][1][1]"
   ]
  },
  {
   "cell_type": "code",
   "execution_count": 24,
   "id": "c19d5b3b-f9c6-4cb2-87d6-7c07c0ad8839",
   "metadata": {},
   "outputs": [
    {
     "data": {
      "text/plain": [
       "6"
      ]
     },
     "execution_count": 24,
     "metadata": {},
     "output_type": "execute_result"
    }
   ],
   "source": [
    "c[1][0][1]"
   ]
  },
  {
   "cell_type": "markdown",
   "id": "2524fc9f-9140-4e3b-b94f-e563614faf1c",
   "metadata": {},
   "source": [
    "SLICING"
   ]
  },
  {
   "cell_type": "code",
   "execution_count": 25,
   "id": "49c2b41a-0ac4-473a-ba7d-10b4dd2ba520",
   "metadata": {},
   "outputs": [
    {
     "name": "stdout",
     "output_type": "stream",
     "text": [
      "[ 1  2  3  4  5  6  7  8  9 10]\n"
     ]
    }
   ],
   "source": [
    "a=np.array([1,2,3,4,5,6,7,8,9,10])\n",
    "print(a)"
   ]
  },
  {
   "cell_type": "markdown",
   "id": "cca7f769-eee9-4bc9-b191-42b59018a11c",
   "metadata": {},
   "source": [
    "2D SLICING"
   ]
  },
  {
   "cell_type": "code",
   "execution_count": 26,
   "id": "9ddb9d6e-3078-4136-a826-f231c383f405",
   "metadata": {},
   "outputs": [
    {
     "name": "stdout",
     "output_type": "stream",
     "text": [
      "[[1 2 3]\n",
      " [4 5 6]\n",
      " [7 8 9]]\n"
     ]
    }
   ],
   "source": [
    "b=np.array([[1,2,3],[4,5,6],[7,8,9]])\n",
    "print(b)"
   ]
  },
  {
   "cell_type": "code",
   "execution_count": 27,
   "id": "1a9af1ad-8949-4e71-b1cb-7db463dcf170",
   "metadata": {},
   "outputs": [
    {
     "data": {
      "text/plain": [
       "array([7])"
      ]
     },
     "execution_count": 27,
     "metadata": {},
     "output_type": "execute_result"
    }
   ],
   "source": [
    "b[2,0:1]"
   ]
  },
  {
   "cell_type": "code",
   "execution_count": 28,
   "id": "91ecff79-ccb5-45b6-b6ea-5df59fc8e50f",
   "metadata": {},
   "outputs": [
    {
     "data": {
      "text/plain": [
       "array([7, 8, 9])"
      ]
     },
     "execution_count": 28,
     "metadata": {},
     "output_type": "execute_result"
    }
   ],
   "source": [
    "b[2,:]"
   ]
  },
  {
   "cell_type": "code",
   "execution_count": 29,
   "id": "463e6ca2-ba4e-4e61-9c5b-e6be2fcefd74",
   "metadata": {},
   "outputs": [
    {
     "data": {
      "text/plain": [
       "array([3, 6, 9])"
      ]
     },
     "execution_count": 29,
     "metadata": {},
     "output_type": "execute_result"
    }
   ],
   "source": [
    "b[:,2]"
   ]
  },
  {
   "cell_type": "code",
   "execution_count": 30,
   "id": "1945bbe8-04aa-404c-97ac-b9d72b695e10",
   "metadata": {},
   "outputs": [
    {
     "data": {
      "text/plain": [
       "array([7, 8])"
      ]
     },
     "execution_count": 30,
     "metadata": {},
     "output_type": "execute_result"
    }
   ],
   "source": [
    "b[2,0:2]"
   ]
  },
  {
   "cell_type": "markdown",
   "id": "f66c47f8-0bde-403b-9e29-907ab89e38bf",
   "metadata": {},
   "source": [
    "NUMPY DATA TYPES"
   ]
  },
  {
   "cell_type": "code",
   "execution_count": 31,
   "id": "5888b084-a5fe-4604-896f-2d64d0b4e298",
   "metadata": {},
   "outputs": [
    {
     "name": "stdout",
     "output_type": "stream",
     "text": [
      "['1' '2' '3' 'text']\n"
     ]
    }
   ],
   "source": [
    "arr=np.array([1,2,3,\"text\"])\n",
    "print(arr)"
   ]
  },
  {
   "cell_type": "code",
   "execution_count": 32,
   "id": "093762b6-8e18-4fbc-8923-361e28f3a974",
   "metadata": {},
   "outputs": [
    {
     "name": "stdout",
     "output_type": "stream",
     "text": [
      "[2 3 4 5]\n",
      "int64\n"
     ]
    }
   ],
   "source": [
    "a=np.array([2,3,4,5])\n",
    "print(a)\n",
    "print(a.dtype)"
   ]
  },
  {
   "cell_type": "code",
   "execution_count": 33,
   "id": "293cd42f-a6ad-4e61-90b5-ee54f1b78f01",
   "metadata": {},
   "outputs": [
    {
     "name": "stdout",
     "output_type": "stream",
     "text": [
      "[1.2 3.4 5.6]\n",
      "float64\n",
      "[1 3 5]\n",
      "int64\n"
     ]
    }
   ],
   "source": [
    "a=np.array([1.2,3.4,5.6])\n",
    "print(a)\n",
    "print(a.dtype)\n",
    "\n",
    "b=a.astype('int')\n",
    "print(b)\n",
    "print(b.dtype)"
   ]
  },
  {
   "cell_type": "code",
   "execution_count": null,
   "id": "f6e12969-05cb-47d0-9119-35baead538a5",
   "metadata": {},
   "outputs": [],
   "source": []
  }
 ],
 "metadata": {
  "kernelspec": {
   "display_name": "anaconda-2022.05-py39",
   "language": "python",
   "name": "conda-env-anaconda-2022.05-py39-py"
  },
  "language_info": {
   "codemirror_mode": {
    "name": "ipython",
    "version": 3
   },
   "file_extension": ".py",
   "mimetype": "text/x-python",
   "name": "python",
   "nbconvert_exporter": "python",
   "pygments_lexer": "ipython3",
   "version": "3.9.12"
  }
 },
 "nbformat": 4,
 "nbformat_minor": 5
}
